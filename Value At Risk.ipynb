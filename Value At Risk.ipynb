{
 "cells": [
  {
   "cell_type": "code",
   "execution_count": 3,
   "metadata": {},
   "outputs": [
    {
     "name": "stdout",
     "output_type": "stream",
     "text": [
      "[*********************100%***********************]  1 of 1 completed\n",
      "[*********************100%***********************]  1 of 1 completed\n",
      "[*********************100%***********************]  1 of 1 completed\n",
      "[*********************100%***********************]  1 of 1 completed\n",
      "[*********************100%***********************]  1 of 1 completed\n"
     ]
    }
   ],
   "source": [
    "# This program is used to calculate VaR.\n",
    "#Check how can you incorporate copula\n",
    "\n",
    "import numpy as np\n",
    "import pandas as pd\n",
    "from pandas_datareader import data as web\n",
    "import datetime\n",
    "import yfinance as yf\n",
    "import matplotlib.pyplot as plt\n",
    "import random\n",
    "from scipy.stats import norm\n",
    "\n",
    "random.seed(444)\n",
    "\n",
    "assets = ['FB','AAPL','AMZN','GOOG','NFLX']\n",
    "weights=np.array([0.1,0.1,0.1,0.1,0.1])\n",
    "\n",
    "endDate = datetime.datetime.now()\n",
    "startDate = endDate - datetime.timedelta(days=500)\n",
    "\n",
    "df = pd.DataFrame()\n",
    "\n",
    "#df['GME']=web.DataReader('GME',data_source='yahoo',start=stock_startdate, end=stock_enddate)\n",
    "for asset in assets:\n",
    "    \n",
    "    df[asset] = yf.download(asset,startDate,endDate)['Adj Close']\n",
    "\n",
    "returns= df.pct_change()\n",
    "returns.dropna(inplace=True)\n"
   ]
  },
  {
   "cell_type": "code",
   "execution_count": 4,
   "metadata": {},
   "outputs": [
    {
     "data": {
      "text/html": [
       "<div>\n",
       "<style scoped>\n",
       "    .dataframe tbody tr th:only-of-type {\n",
       "        vertical-align: middle;\n",
       "    }\n",
       "\n",
       "    .dataframe tbody tr th {\n",
       "        vertical-align: top;\n",
       "    }\n",
       "\n",
       "    .dataframe thead th {\n",
       "        text-align: right;\n",
       "    }\n",
       "</style>\n",
       "<table border=\"1\" class=\"dataframe\">\n",
       "  <thead>\n",
       "    <tr style=\"text-align: right;\">\n",
       "      <th></th>\n",
       "      <th>FB</th>\n",
       "      <th>AAPL</th>\n",
       "      <th>AMZN</th>\n",
       "      <th>GOOG</th>\n",
       "      <th>NFLX</th>\n",
       "    </tr>\n",
       "    <tr>\n",
       "      <th>Date</th>\n",
       "      <th></th>\n",
       "      <th></th>\n",
       "      <th></th>\n",
       "      <th></th>\n",
       "      <th></th>\n",
       "    </tr>\n",
       "  </thead>\n",
       "  <tbody>\n",
       "    <tr>\n",
       "      <th>2020-02-25</th>\n",
       "      <td>-0.019679</td>\n",
       "      <td>-0.033872</td>\n",
       "      <td>-0.018191</td>\n",
       "      <td>-0.023312</td>\n",
       "      <td>-0.023352</td>\n",
       "    </tr>\n",
       "    <tr>\n",
       "      <th>2020-02-26</th>\n",
       "      <td>0.002185</td>\n",
       "      <td>0.015864</td>\n",
       "      <td>0.003472</td>\n",
       "      <td>0.003407</td>\n",
       "      <td>0.053181</td>\n",
       "    </tr>\n",
       "    <tr>\n",
       "      <th>2020-02-27</th>\n",
       "      <td>-0.037779</td>\n",
       "      <td>-0.065368</td>\n",
       "      <td>-0.048136</td>\n",
       "      <td>-0.053898</td>\n",
       "      <td>-0.019855</td>\n",
       "    </tr>\n",
       "    <tr>\n",
       "      <th>2020-02-28</th>\n",
       "      <td>0.014335</td>\n",
       "      <td>-0.000585</td>\n",
       "      <td>-0.000292</td>\n",
       "      <td>0.016114</td>\n",
       "      <td>-0.007210</td>\n",
       "    </tr>\n",
       "    <tr>\n",
       "      <th>2020-03-02</th>\n",
       "      <td>0.020627</td>\n",
       "      <td>0.093101</td>\n",
       "      <td>0.037266</td>\n",
       "      <td>0.037168</td>\n",
       "      <td>0.032572</td>\n",
       "    </tr>\n",
       "    <tr>\n",
       "      <th>...</th>\n",
       "      <td>...</td>\n",
       "      <td>...</td>\n",
       "      <td>...</td>\n",
       "      <td>...</td>\n",
       "      <td>...</td>\n",
       "    </tr>\n",
       "    <tr>\n",
       "      <th>2021-07-01</th>\n",
       "      <td>0.019211</td>\n",
       "      <td>0.002263</td>\n",
       "      <td>-0.002090</td>\n",
       "      <td>0.008399</td>\n",
       "      <td>0.010091</td>\n",
       "    </tr>\n",
       "    <tr>\n",
       "      <th>2021-07-02</th>\n",
       "      <td>0.000875</td>\n",
       "      <td>0.019596</td>\n",
       "      <td>0.022724</td>\n",
       "      <td>0.018600</td>\n",
       "      <td>0.000825</td>\n",
       "    </tr>\n",
       "    <tr>\n",
       "      <th>2021-07-06</th>\n",
       "      <td>-0.005413</td>\n",
       "      <td>0.014718</td>\n",
       "      <td>0.046927</td>\n",
       "      <td>0.008173</td>\n",
       "      <td>0.014345</td>\n",
       "    </tr>\n",
       "    <tr>\n",
       "      <th>2021-07-07</th>\n",
       "      <td>-0.006491</td>\n",
       "      <td>0.017955</td>\n",
       "      <td>0.005670</td>\n",
       "      <td>0.002362</td>\n",
       "      <td>-0.010487</td>\n",
       "    </tr>\n",
       "    <tr>\n",
       "      <th>2021-07-08</th>\n",
       "      <td>-0.013809</td>\n",
       "      <td>-0.009200</td>\n",
       "      <td>0.009422</td>\n",
       "      <td>-0.006923</td>\n",
       "      <td>-0.009702</td>\n",
       "    </tr>\n",
       "  </tbody>\n",
       "</table>\n",
       "<p>346 rows × 5 columns</p>\n",
       "</div>"
      ],
      "text/plain": [
       "                  FB      AAPL      AMZN      GOOG      NFLX\n",
       "Date                                                        \n",
       "2020-02-25 -0.019679 -0.033872 -0.018191 -0.023312 -0.023352\n",
       "2020-02-26  0.002185  0.015864  0.003472  0.003407  0.053181\n",
       "2020-02-27 -0.037779 -0.065368 -0.048136 -0.053898 -0.019855\n",
       "2020-02-28  0.014335 -0.000585 -0.000292  0.016114 -0.007210\n",
       "2020-03-02  0.020627  0.093101  0.037266  0.037168  0.032572\n",
       "...              ...       ...       ...       ...       ...\n",
       "2021-07-01  0.019211  0.002263 -0.002090  0.008399  0.010091\n",
       "2021-07-02  0.000875  0.019596  0.022724  0.018600  0.000825\n",
       "2021-07-06 -0.005413  0.014718  0.046927  0.008173  0.014345\n",
       "2021-07-07 -0.006491  0.017955  0.005670  0.002362 -0.010487\n",
       "2021-07-08 -0.013809 -0.009200  0.009422 -0.006923 -0.009702\n",
       "\n",
       "[346 rows x 5 columns]"
      ]
     },
     "execution_count": 4,
     "metadata": {},
     "output_type": "execute_result"
    }
   ],
   "source": [
    "\n",
    "returns"
   ]
  },
  {
   "cell_type": "code",
   "execution_count": 5,
   "metadata": {},
   "outputs": [],
   "source": [
    "def port_mean(df,weights):\n",
    "    return np.dot(df.mean(), weights)\n",
    "\n",
    "def portfolioStd(df,weights):\n",
    "    var=np.dot(weights.T,np.dot(df.cov(),weights))\n",
    "    return np.sqrt(var)\n",
    "\n",
    "def ParametricVaR(df,weights,alpha=5):\n",
    "    temp=norm.ppf(alpha/100)*portfolioStd(df,weights)+ port_mean(df,weights)\n",
    "    return temp\n",
    "\n",
    "def ParametricCVaR(df,weights,alpha=5):\n",
    "    CVaR = (alpha/100)**-1 * norm.pdf(norm.ppf(alpha/100))*portfolioStd(df,weights) - port_mean(df,weights)\n",
    "    return CVaR\n",
    "\n",
    "def HistoricalVaR(df,weights,alpha=5):\n",
    "    new_returns=df.copy()\n",
    "    new_returns['Portfolio Return']=new_returns.dot(weights)\n",
    "    return np.percentile(new_returns['Portfolio Return'],alpha)\n",
    "\n",
    "def HistoricalCVaR(df,weights,alpha=5):\n",
    "    new_returns=df.copy()\n",
    "    new_returns['Portfolio Return']=new_returns.dot(weights)\n",
    "    belowVaR = new_returns['Portfolio Return']<=HistoricalVaR(df,weights,alpha)\n",
    "    below=new_returns['Portfolio Return'][belowVaR]\n",
    "    return below.mean()\n"
   ]
  },
  {
   "cell_type": "code",
   "execution_count": 6,
   "metadata": {},
   "outputs": [
    {
     "data": {
      "image/png": "[encoded data removed]",
      "text/plain": [
       "<Figure size 432x288 with 1 Axes>"
      ]
     },
     "metadata": {},
     "output_type": "display_data"
    }
   ],
   "source": [
    "a=ParametricVaR(returns,weights,5)\n",
    "x=np.arange(-0.03,0.03,0.0001)\n",
    "norm_dist=norm.pdf(x,port_mean(returns,weights),portfolioStd(returns,weights))\n",
    "plt.style.use('fivethirtyeight')\n",
    "plt.plot(x,norm_dist)\n",
    "plt.axvline(a,linestyle='dashed',color='red',linewidth=2,label=\"VaR\")\n",
    "b=ParametricCVaR(returns,weights,5)\n",
    "plt.axvline(-b,linestyle='dashed',color='brown',linewidth=2,label=\"CVaR\")\n",
    "plt.legend()\n",
    "plt.show()"
   ]
  },
  {
   "cell_type": "code",
   "execution_count": 13,
   "metadata": {},
   "outputs": [
    {
     "data": {
      "text/plain": [
       "1670.451920692362"
      ]
     },
     "execution_count": 13,
     "metadata": {},
     "output_type": "execute_result"
    }
   ],
   "source": [
    "-ParametricVaR(returns,weights,alpha=5)*100000"
   ]
  },
  {
   "cell_type": "code",
   "execution_count": 14,
   "metadata": {},
   "outputs": [
    {
     "data": {
      "text/plain": [
       "2119.3153887010453"
      ]
     },
     "execution_count": 14,
     "metadata": {},
     "output_type": "execute_result"
    }
   ],
   "source": [
    "ParametricCVaR(returns,weights,alpha=5)*100000\n",
    "    "
   ]
  },
  {
   "cell_type": "code",
   "execution_count": 15,
   "metadata": {},
   "outputs": [
    {
     "data": {
      "text/plain": [
       "-1708.8248142899627"
      ]
     },
     "execution_count": 15,
     "metadata": {},
     "output_type": "execute_result"
    }
   ],
   "source": [
    "HistoricalVaR(returns,weights,alpha=5)*100000"
   ]
  },
  {
   "cell_type": "code",
   "execution_count": 16,
   "metadata": {},
   "outputs": [
    {
     "data": {
      "text/plain": [
       "-2414.4336305537267"
      ]
     },
     "execution_count": 16,
     "metadata": {},
     "output_type": "execute_result"
    }
   ],
   "source": [
    "HistoricalCVaR(returns,weights,alpha=5)*100000"
   ]
  },
  {
   "cell_type": "code",
   "execution_count": null,
   "metadata": {},
   "outputs": [],
   "source": []
  }
 ],
 "metadata": {
  "kernelspec": {
   "display_name": "Python 3",
   "language": "python",
   "name": "python3"
  },
  "language_info": {
   "codemirror_mode": {
    "name": "ipython",
    "version": 3
   },
   "file_extension": ".py",
   "mimetype": "text/x-python",
   "name": "python",
   "nbconvert_exporter": "python",
   "pygments_lexer": "ipython3",
   "version": "3.8.3"
  }
 },
 "nbformat": 4,
 "nbformat_minor": 4
}
